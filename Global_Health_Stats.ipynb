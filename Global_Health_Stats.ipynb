{
 "cells": [
  {
   "cell_type": "markdown",
   "id": "6efdcc65-e7e7-433e-8be2-42dee1e2ccb2",
   "metadata": {},
   "source": [
    "## **Automated Analysis and Visualization of Global Hospital Data 🩺**\n",
    "\n",
    "**🏥Overview:**\n",
    "\n",
    "This project analyzes a comprehensive global health dataset to determine disease prevalence, identify epidemiological trends, and present findings through automation and interactive visualization. The dataset spans multiple countries and years, covering various diseases, treatments, and healthcare outcomes.\n",
    "\n",
    "The analysis supports health policy planning, epidemiological research, and predictive modeling, enabling data-driven decisions that can improve healthcare delivery and resource allocation."
   ]
  },
  {
   "cell_type": "markdown",
   "id": "daa770a3-2520-4f8f-99ed-a80e07dd2164",
   "metadata": {},
   "source": [
    "**Libraries to use:**"
   ]
  },
  {
   "cell_type": "code",
   "execution_count": 3,
   "id": "f8e539e9-6d1b-401f-9171-e5ee84d3ede6",
   "metadata": {
    "tags": []
   },
   "outputs": [],
   "source": [
    "import pandas as pd\n",
    "import numpy as np\n",
    "from datetime import datetime"
   ]
  },
  {
   "cell_type": "code",
   "execution_count": 4,
   "id": "6fc3f3be-efc7-427d-b33a-fca7745b2dd3",
   "metadata": {
    "tags": []
   },
   "outputs": [],
   "source": [
    "df = pd.read_csv(\"global_health_stats.csv\")"
   ]
  },
  {
   "cell_type": "markdown",
   "id": "2d89235c-dca3-46ea-a599-00e66f66d2f7",
   "metadata": {},
   "source": [
    "**Understand the Data Structure:**"
   ]
  },
  {
   "cell_type": "code",
   "execution_count": 6,
   "id": "06c378f0-05d9-48db-a0dc-081b14f6d1cb",
   "metadata": {
    "tags": []
   },
   "outputs": [
    {
     "data": {
      "text/html": [
       "<div>\n",
       "<style scoped>\n",
       "    .dataframe tbody tr th:only-of-type {\n",
       "        vertical-align: middle;\n",
       "    }\n",
       "\n",
       "    .dataframe tbody tr th {\n",
       "        vertical-align: top;\n",
       "    }\n",
       "\n",
       "    .dataframe thead th {\n",
       "        text-align: right;\n",
       "    }\n",
       "</style>\n",
       "<table border=\"1\" class=\"dataframe\">\n",
       "  <thead>\n",
       "    <tr style=\"text-align: right;\">\n",
       "      <th></th>\n",
       "      <th>Country</th>\n",
       "      <th>Year</th>\n",
       "      <th>Disease Name</th>\n",
       "      <th>Disease Category</th>\n",
       "      <th>Prevalence Rate (%)</th>\n",
       "      <th>Incidence Rate (%)</th>\n",
       "      <th>Mortality Rate (%)</th>\n",
       "      <th>Age Group</th>\n",
       "      <th>Gender</th>\n",
       "      <th>Population Affected</th>\n",
       "      <th>...</th>\n",
       "      <th>Hospital Beds per 1000</th>\n",
       "      <th>Treatment Type</th>\n",
       "      <th>Average Treatment Cost (USD)</th>\n",
       "      <th>Availability of Vaccines/Treatment</th>\n",
       "      <th>Recovery Rate (%)</th>\n",
       "      <th>DALYs</th>\n",
       "      <th>Improvement in 5 Years (%)</th>\n",
       "      <th>Per Capita Income (USD)</th>\n",
       "      <th>Education Index</th>\n",
       "      <th>Urbanization Rate (%)</th>\n",
       "    </tr>\n",
       "  </thead>\n",
       "  <tbody>\n",
       "    <tr>\n",
       "      <th>0</th>\n",
       "      <td>Italy</td>\n",
       "      <td>2013</td>\n",
       "      <td>Malaria</td>\n",
       "      <td>Respiratory</td>\n",
       "      <td>0.95</td>\n",
       "      <td>1.55</td>\n",
       "      <td>8.42</td>\n",
       "      <td>0-18</td>\n",
       "      <td>Male</td>\n",
       "      <td>471007</td>\n",
       "      <td>...</td>\n",
       "      <td>7.58</td>\n",
       "      <td>Medication</td>\n",
       "      <td>21064</td>\n",
       "      <td>No</td>\n",
       "      <td>91.82</td>\n",
       "      <td>4493</td>\n",
       "      <td>2.16</td>\n",
       "      <td>16886</td>\n",
       "      <td>0.79</td>\n",
       "      <td>86.02</td>\n",
       "    </tr>\n",
       "    <tr>\n",
       "      <th>1</th>\n",
       "      <td>France</td>\n",
       "      <td>2002</td>\n",
       "      <td>Ebola</td>\n",
       "      <td>Parasitic</td>\n",
       "      <td>12.46</td>\n",
       "      <td>8.63</td>\n",
       "      <td>8.75</td>\n",
       "      <td>61+</td>\n",
       "      <td>Male</td>\n",
       "      <td>634318</td>\n",
       "      <td>...</td>\n",
       "      <td>5.11</td>\n",
       "      <td>Surgery</td>\n",
       "      <td>47851</td>\n",
       "      <td>Yes</td>\n",
       "      <td>76.65</td>\n",
       "      <td>2366</td>\n",
       "      <td>4.82</td>\n",
       "      <td>80639</td>\n",
       "      <td>0.74</td>\n",
       "      <td>45.52</td>\n",
       "    </tr>\n",
       "    <tr>\n",
       "      <th>2</th>\n",
       "      <td>Turkey</td>\n",
       "      <td>2015</td>\n",
       "      <td>COVID-19</td>\n",
       "      <td>Genetic</td>\n",
       "      <td>0.91</td>\n",
       "      <td>2.35</td>\n",
       "      <td>6.22</td>\n",
       "      <td>36-60</td>\n",
       "      <td>Male</td>\n",
       "      <td>154878</td>\n",
       "      <td>...</td>\n",
       "      <td>3.49</td>\n",
       "      <td>Vaccination</td>\n",
       "      <td>27834</td>\n",
       "      <td>Yes</td>\n",
       "      <td>98.55</td>\n",
       "      <td>41</td>\n",
       "      <td>5.81</td>\n",
       "      <td>12245</td>\n",
       "      <td>0.41</td>\n",
       "      <td>40.20</td>\n",
       "    </tr>\n",
       "    <tr>\n",
       "      <th>3</th>\n",
       "      <td>Indonesia</td>\n",
       "      <td>2011</td>\n",
       "      <td>Parkinson's Disease</td>\n",
       "      <td>Autoimmune</td>\n",
       "      <td>4.68</td>\n",
       "      <td>6.29</td>\n",
       "      <td>3.99</td>\n",
       "      <td>0-18</td>\n",
       "      <td>Other</td>\n",
       "      <td>446224</td>\n",
       "      <td>...</td>\n",
       "      <td>8.44</td>\n",
       "      <td>Surgery</td>\n",
       "      <td>144</td>\n",
       "      <td>Yes</td>\n",
       "      <td>67.35</td>\n",
       "      <td>3201</td>\n",
       "      <td>2.22</td>\n",
       "      <td>49336</td>\n",
       "      <td>0.49</td>\n",
       "      <td>58.47</td>\n",
       "    </tr>\n",
       "    <tr>\n",
       "      <th>4</th>\n",
       "      <td>Italy</td>\n",
       "      <td>2013</td>\n",
       "      <td>Tuberculosis</td>\n",
       "      <td>Genetic</td>\n",
       "      <td>0.83</td>\n",
       "      <td>13.59</td>\n",
       "      <td>7.01</td>\n",
       "      <td>61+</td>\n",
       "      <td>Male</td>\n",
       "      <td>472908</td>\n",
       "      <td>...</td>\n",
       "      <td>5.90</td>\n",
       "      <td>Medication</td>\n",
       "      <td>8908</td>\n",
       "      <td>Yes</td>\n",
       "      <td>50.06</td>\n",
       "      <td>2832</td>\n",
       "      <td>6.93</td>\n",
       "      <td>47701</td>\n",
       "      <td>0.50</td>\n",
       "      <td>48.14</td>\n",
       "    </tr>\n",
       "  </tbody>\n",
       "</table>\n",
       "<p>5 rows × 22 columns</p>\n",
       "</div>"
      ],
      "text/plain": [
       "     Country  Year         Disease Name Disease Category  Prevalence Rate (%)  \\\n",
       "0      Italy  2013              Malaria      Respiratory                 0.95   \n",
       "1     France  2002                Ebola        Parasitic                12.46   \n",
       "2     Turkey  2015             COVID-19          Genetic                 0.91   \n",
       "3  Indonesia  2011  Parkinson's Disease       Autoimmune                 4.68   \n",
       "4      Italy  2013         Tuberculosis          Genetic                 0.83   \n",
       "\n",
       "   Incidence Rate (%)  Mortality Rate (%) Age Group Gender  \\\n",
       "0                1.55                8.42      0-18   Male   \n",
       "1                8.63                8.75       61+   Male   \n",
       "2                2.35                6.22     36-60   Male   \n",
       "3                6.29                3.99      0-18  Other   \n",
       "4               13.59                7.01       61+   Male   \n",
       "\n",
       "   Population Affected  ...  Hospital Beds per 1000  Treatment Type  \\\n",
       "0               471007  ...                    7.58      Medication   \n",
       "1               634318  ...                    5.11         Surgery   \n",
       "2               154878  ...                    3.49     Vaccination   \n",
       "3               446224  ...                    8.44         Surgery   \n",
       "4               472908  ...                    5.90      Medication   \n",
       "\n",
       "   Average Treatment Cost (USD) Availability of Vaccines/Treatment  \\\n",
       "0                         21064                                 No   \n",
       "1                         47851                                Yes   \n",
       "2                         27834                                Yes   \n",
       "3                           144                                Yes   \n",
       "4                          8908                                Yes   \n",
       "\n",
       "   Recovery Rate (%) DALYs  Improvement in 5 Years (%)  \\\n",
       "0              91.82  4493                        2.16   \n",
       "1              76.65  2366                        4.82   \n",
       "2              98.55    41                        5.81   \n",
       "3              67.35  3201                        2.22   \n",
       "4              50.06  2832                        6.93   \n",
       "\n",
       "   Per Capita Income (USD)  Education Index  Urbanization Rate (%)  \n",
       "0                    16886             0.79                  86.02  \n",
       "1                    80639             0.74                  45.52  \n",
       "2                    12245             0.41                  40.20  \n",
       "3                    49336             0.49                  58.47  \n",
       "4                    47701             0.50                  48.14  \n",
       "\n",
       "[5 rows x 22 columns]"
      ]
     },
     "execution_count": 6,
     "metadata": {},
     "output_type": "execute_result"
    }
   ],
   "source": [
    "df.head()"
   ]
  },
  {
   "cell_type": "code",
   "execution_count": 7,
   "id": "82a55440-52a4-4f86-a662-df4a4dbdabf5",
   "metadata": {
    "tags": []
   },
   "outputs": [
    {
     "data": {
      "text/html": [
       "<div>\n",
       "<style scoped>\n",
       "    .dataframe tbody tr th:only-of-type {\n",
       "        vertical-align: middle;\n",
       "    }\n",
       "\n",
       "    .dataframe tbody tr th {\n",
       "        vertical-align: top;\n",
       "    }\n",
       "\n",
       "    .dataframe thead th {\n",
       "        text-align: right;\n",
       "    }\n",
       "</style>\n",
       "<table border=\"1\" class=\"dataframe\">\n",
       "  <thead>\n",
       "    <tr style=\"text-align: right;\">\n",
       "      <th></th>\n",
       "      <th>Year</th>\n",
       "      <th>Prevalence Rate (%)</th>\n",
       "      <th>Incidence Rate (%)</th>\n",
       "      <th>Mortality Rate (%)</th>\n",
       "      <th>Population Affected</th>\n",
       "      <th>Healthcare Access (%)</th>\n",
       "      <th>Doctors per 1000</th>\n",
       "      <th>Hospital Beds per 1000</th>\n",
       "      <th>Average Treatment Cost (USD)</th>\n",
       "      <th>Recovery Rate (%)</th>\n",
       "      <th>DALYs</th>\n",
       "      <th>Improvement in 5 Years (%)</th>\n",
       "      <th>Per Capita Income (USD)</th>\n",
       "      <th>Education Index</th>\n",
       "      <th>Urbanization Rate (%)</th>\n",
       "    </tr>\n",
       "  </thead>\n",
       "  <tbody>\n",
       "    <tr>\n",
       "      <th>count</th>\n",
       "      <td>1000000.000000</td>\n",
       "      <td>1000000.000000</td>\n",
       "      <td>1000000.000000</td>\n",
       "      <td>1000000.000000</td>\n",
       "      <td>1000000.000000</td>\n",
       "      <td>1000000.000000</td>\n",
       "      <td>1000000.000000</td>\n",
       "      <td>1000000.000000</td>\n",
       "      <td>1000000.000000</td>\n",
       "      <td>1000000.000000</td>\n",
       "      <td>1000000.000000</td>\n",
       "      <td>1000000.000000</td>\n",
       "      <td>1000000.000000</td>\n",
       "      <td>1000000.000000</td>\n",
       "      <td>1000000.000000</td>\n",
       "    </tr>\n",
       "    <tr>\n",
       "      <th>mean</th>\n",
       "      <td>2011.996999</td>\n",
       "      <td>10.047992</td>\n",
       "      <td>7.555005</td>\n",
       "      <td>5.049919</td>\n",
       "      <td>500735.427363</td>\n",
       "      <td>74.987835</td>\n",
       "      <td>2.747929</td>\n",
       "      <td>5.245931</td>\n",
       "      <td>25010.313665</td>\n",
       "      <td>74.496934</td>\n",
       "      <td>2499.144809</td>\n",
       "      <td>5.002593</td>\n",
       "      <td>50311.099835</td>\n",
       "      <td>0.650069</td>\n",
       "      <td>54.985212</td>\n",
       "    </tr>\n",
       "    <tr>\n",
       "      <th>std</th>\n",
       "      <td>7.217287</td>\n",
       "      <td>5.740189</td>\n",
       "      <td>4.298947</td>\n",
       "      <td>2.859427</td>\n",
       "      <td>288660.116648</td>\n",
       "      <td>14.436345</td>\n",
       "      <td>1.299067</td>\n",
       "      <td>2.742865</td>\n",
       "      <td>14402.279227</td>\n",
       "      <td>14.155168</td>\n",
       "      <td>1443.923798</td>\n",
       "      <td>2.888298</td>\n",
       "      <td>28726.959359</td>\n",
       "      <td>0.144472</td>\n",
       "      <td>20.214042</td>\n",
       "    </tr>\n",
       "    <tr>\n",
       "      <th>min</th>\n",
       "      <td>2000.000000</td>\n",
       "      <td>0.100000</td>\n",
       "      <td>0.100000</td>\n",
       "      <td>0.100000</td>\n",
       "      <td>1000.000000</td>\n",
       "      <td>50.000000</td>\n",
       "      <td>0.500000</td>\n",
       "      <td>0.500000</td>\n",
       "      <td>100.000000</td>\n",
       "      <td>50.000000</td>\n",
       "      <td>1.000000</td>\n",
       "      <td>0.000000</td>\n",
       "      <td>500.000000</td>\n",
       "      <td>0.400000</td>\n",
       "      <td>20.000000</td>\n",
       "    </tr>\n",
       "    <tr>\n",
       "      <th>25%</th>\n",
       "      <td>2006.000000</td>\n",
       "      <td>5.090000</td>\n",
       "      <td>3.840000</td>\n",
       "      <td>2.580000</td>\n",
       "      <td>250491.250000</td>\n",
       "      <td>62.470000</td>\n",
       "      <td>1.620000</td>\n",
       "      <td>2.870000</td>\n",
       "      <td>12538.000000</td>\n",
       "      <td>62.220000</td>\n",
       "      <td>1245.000000</td>\n",
       "      <td>2.500000</td>\n",
       "      <td>25457.000000</td>\n",
       "      <td>0.530000</td>\n",
       "      <td>37.470000</td>\n",
       "    </tr>\n",
       "    <tr>\n",
       "      <th>50%</th>\n",
       "      <td>2012.000000</td>\n",
       "      <td>10.040000</td>\n",
       "      <td>7.550000</td>\n",
       "      <td>5.050000</td>\n",
       "      <td>501041.000000</td>\n",
       "      <td>75.000000</td>\n",
       "      <td>2.750000</td>\n",
       "      <td>5.240000</td>\n",
       "      <td>24980.000000</td>\n",
       "      <td>74.470000</td>\n",
       "      <td>2499.000000</td>\n",
       "      <td>5.000000</td>\n",
       "      <td>50372.000000</td>\n",
       "      <td>0.650000</td>\n",
       "      <td>54.980000</td>\n",
       "    </tr>\n",
       "    <tr>\n",
       "      <th>75%</th>\n",
       "      <td>2018.000000</td>\n",
       "      <td>15.010000</td>\n",
       "      <td>11.280000</td>\n",
       "      <td>7.530000</td>\n",
       "      <td>750782.000000</td>\n",
       "      <td>87.490000</td>\n",
       "      <td>3.870000</td>\n",
       "      <td>7.620000</td>\n",
       "      <td>37493.000000</td>\n",
       "      <td>86.780000</td>\n",
       "      <td>3750.000000</td>\n",
       "      <td>7.510000</td>\n",
       "      <td>75195.000000</td>\n",
       "      <td>0.780000</td>\n",
       "      <td>72.510000</td>\n",
       "    </tr>\n",
       "    <tr>\n",
       "      <th>max</th>\n",
       "      <td>2024.000000</td>\n",
       "      <td>20.000000</td>\n",
       "      <td>15.000000</td>\n",
       "      <td>10.000000</td>\n",
       "      <td>1000000.000000</td>\n",
       "      <td>100.000000</td>\n",
       "      <td>5.000000</td>\n",
       "      <td>10.000000</td>\n",
       "      <td>50000.000000</td>\n",
       "      <td>99.000000</td>\n",
       "      <td>5000.000000</td>\n",
       "      <td>10.000000</td>\n",
       "      <td>100000.000000</td>\n",
       "      <td>0.900000</td>\n",
       "      <td>90.000000</td>\n",
       "    </tr>\n",
       "  </tbody>\n",
       "</table>\n",
       "</div>"
      ],
      "text/plain": [
       "                 Year  Prevalence Rate (%)  Incidence Rate (%)  \\\n",
       "count  1000000.000000       1000000.000000      1000000.000000   \n",
       "mean      2011.996999            10.047992            7.555005   \n",
       "std          7.217287             5.740189            4.298947   \n",
       "min       2000.000000             0.100000            0.100000   \n",
       "25%       2006.000000             5.090000            3.840000   \n",
       "50%       2012.000000            10.040000            7.550000   \n",
       "75%       2018.000000            15.010000           11.280000   \n",
       "max       2024.000000            20.000000           15.000000   \n",
       "\n",
       "       Mortality Rate (%)  Population Affected  Healthcare Access (%)  \\\n",
       "count      1000000.000000       1000000.000000         1000000.000000   \n",
       "mean             5.049919        500735.427363              74.987835   \n",
       "std              2.859427        288660.116648              14.436345   \n",
       "min              0.100000          1000.000000              50.000000   \n",
       "25%              2.580000        250491.250000              62.470000   \n",
       "50%              5.050000        501041.000000              75.000000   \n",
       "75%              7.530000        750782.000000              87.490000   \n",
       "max             10.000000       1000000.000000             100.000000   \n",
       "\n",
       "       Doctors per 1000  Hospital Beds per 1000  Average Treatment Cost (USD)  \\\n",
       "count    1000000.000000          1000000.000000                1000000.000000   \n",
       "mean           2.747929                5.245931                  25010.313665   \n",
       "std            1.299067                2.742865                  14402.279227   \n",
       "min            0.500000                0.500000                    100.000000   \n",
       "25%            1.620000                2.870000                  12538.000000   \n",
       "50%            2.750000                5.240000                  24980.000000   \n",
       "75%            3.870000                7.620000                  37493.000000   \n",
       "max            5.000000               10.000000                  50000.000000   \n",
       "\n",
       "       Recovery Rate (%)           DALYs  Improvement in 5 Years (%)  \\\n",
       "count     1000000.000000  1000000.000000              1000000.000000   \n",
       "mean           74.496934     2499.144809                    5.002593   \n",
       "std            14.155168     1443.923798                    2.888298   \n",
       "min            50.000000        1.000000                    0.000000   \n",
       "25%            62.220000     1245.000000                    2.500000   \n",
       "50%            74.470000     2499.000000                    5.000000   \n",
       "75%            86.780000     3750.000000                    7.510000   \n",
       "max            99.000000     5000.000000                   10.000000   \n",
       "\n",
       "       Per Capita Income (USD)  Education Index  Urbanization Rate (%)  \n",
       "count           1000000.000000   1000000.000000         1000000.000000  \n",
       "mean              50311.099835         0.650069              54.985212  \n",
       "std               28726.959359         0.144472              20.214042  \n",
       "min                 500.000000         0.400000              20.000000  \n",
       "25%               25457.000000         0.530000              37.470000  \n",
       "50%               50372.000000         0.650000              54.980000  \n",
       "75%               75195.000000         0.780000              72.510000  \n",
       "max              100000.000000         0.900000              90.000000  "
      ]
     },
     "execution_count": 7,
     "metadata": {},
     "output_type": "execute_result"
    }
   ],
   "source": [
    "df.describe()"
   ]
  },
  {
   "cell_type": "code",
   "execution_count": 8,
   "id": "453ab3d9-7f65-498c-84df-4f345417758c",
   "metadata": {
    "tags": []
   },
   "outputs": [
    {
     "data": {
      "text/plain": [
       "(1000000, 22)"
      ]
     },
     "execution_count": 8,
     "metadata": {},
     "output_type": "execute_result"
    }
   ],
   "source": [
    "df.shape"
   ]
  },
  {
   "cell_type": "code",
   "execution_count": 9,
   "id": "1dfe0155-f7e7-43e7-a25d-9c70102a98b0",
   "metadata": {
    "tags": []
   },
   "outputs": [
    {
     "data": {
      "text/plain": [
       "Index(['Country', 'Year', 'Disease Name', 'Disease Category',\n",
       "       'Prevalence Rate (%)', 'Incidence Rate (%)', 'Mortality Rate (%)',\n",
       "       'Age Group', 'Gender', 'Population Affected', 'Healthcare Access (%)',\n",
       "       'Doctors per 1000', 'Hospital Beds per 1000', 'Treatment Type',\n",
       "       'Average Treatment Cost (USD)', 'Availability of Vaccines/Treatment',\n",
       "       'Recovery Rate (%)', 'DALYs', 'Improvement in 5 Years (%)',\n",
       "       'Per Capita Income (USD)', 'Education Index', 'Urbanization Rate (%)'],\n",
       "      dtype='object')"
      ]
     },
     "execution_count": 9,
     "metadata": {},
     "output_type": "execute_result"
    }
   ],
   "source": [
    "df.columns"
   ]
  },
  {
   "cell_type": "code",
   "execution_count": 10,
   "id": "91dada26-b921-466a-82d4-ff60fb79e54a",
   "metadata": {
    "tags": []
   },
   "outputs": [
    {
     "name": "stdout",
     "output_type": "stream",
     "text": [
      "<class 'pandas.core.frame.DataFrame'>\n",
      "RangeIndex: 1000000 entries, 0 to 999999\n",
      "Data columns (total 22 columns):\n",
      " #   Column                              Non-Null Count    Dtype  \n",
      "---  ------                              --------------    -----  \n",
      " 0   Country                             1000000 non-null  object \n",
      " 1   Year                                1000000 non-null  int64  \n",
      " 2   Disease Name                        1000000 non-null  object \n",
      " 3   Disease Category                    1000000 non-null  object \n",
      " 4   Prevalence Rate (%)                 1000000 non-null  float64\n",
      " 5   Incidence Rate (%)                  1000000 non-null  float64\n",
      " 6   Mortality Rate (%)                  1000000 non-null  float64\n",
      " 7   Age Group                           1000000 non-null  object \n",
      " 8   Gender                              1000000 non-null  object \n",
      " 9   Population Affected                 1000000 non-null  int64  \n",
      " 10  Healthcare Access (%)               1000000 non-null  float64\n",
      " 11  Doctors per 1000                    1000000 non-null  float64\n",
      " 12  Hospital Beds per 1000              1000000 non-null  float64\n",
      " 13  Treatment Type                      1000000 non-null  object \n",
      " 14  Average Treatment Cost (USD)        1000000 non-null  int64  \n",
      " 15  Availability of Vaccines/Treatment  1000000 non-null  object \n",
      " 16  Recovery Rate (%)                   1000000 non-null  float64\n",
      " 17  DALYs                               1000000 non-null  int64  \n",
      " 18  Improvement in 5 Years (%)          1000000 non-null  float64\n",
      " 19  Per Capita Income (USD)             1000000 non-null  int64  \n",
      " 20  Education Index                     1000000 non-null  float64\n",
      " 21  Urbanization Rate (%)               1000000 non-null  float64\n",
      "dtypes: float64(10), int64(5), object(7)\n",
      "memory usage: 167.8+ MB\n"
     ]
    }
   ],
   "source": [
    "df.info()"
   ]
  },
  {
   "cell_type": "markdown",
   "id": "ba1c31fa-9e46-4cbf-981e-5c0558119c35",
   "metadata": {},
   "source": [
    "**Handle Missing Data:**"
   ]
  },
  {
   "cell_type": "code",
   "execution_count": 12,
   "id": "65756755-d7f6-4dfb-80d2-dfc551280342",
   "metadata": {
    "tags": []
   },
   "outputs": [
    {
     "data": {
      "text/plain": [
       "Country                               0\n",
       "Year                                  0\n",
       "Disease Name                          0\n",
       "Disease Category                      0\n",
       "Prevalence Rate (%)                   0\n",
       "Incidence Rate (%)                    0\n",
       "Mortality Rate (%)                    0\n",
       "Age Group                             0\n",
       "Gender                                0\n",
       "Population Affected                   0\n",
       "Healthcare Access (%)                 0\n",
       "Doctors per 1000                      0\n",
       "Hospital Beds per 1000                0\n",
       "Treatment Type                        0\n",
       "Average Treatment Cost (USD)          0\n",
       "Availability of Vaccines/Treatment    0\n",
       "Recovery Rate (%)                     0\n",
       "DALYs                                 0\n",
       "Improvement in 5 Years (%)            0\n",
       "Per Capita Income (USD)               0\n",
       "Education Index                       0\n",
       "Urbanization Rate (%)                 0\n",
       "dtype: int64"
      ]
     },
     "execution_count": 12,
     "metadata": {},
     "output_type": "execute_result"
    }
   ],
   "source": [
    "df.isna().sum()"
   ]
  },
  {
   "cell_type": "code",
   "execution_count": 13,
   "id": "14ab3c1b-2c9c-4bf8-81c6-7e59eb6dcf40",
   "metadata": {
    "tags": []
   },
   "outputs": [
    {
     "data": {
      "text/plain": [
       "0"
      ]
     },
     "execution_count": 13,
     "metadata": {},
     "output_type": "execute_result"
    }
   ],
   "source": [
    "df.duplicated().sum()"
   ]
  },
  {
   "cell_type": "markdown",
   "id": "b7023e2b-f555-4fb4-809c-ebc3e9fcf363",
   "metadata": {},
   "source": [
    "**Standardize Data Formats:**"
   ]
  },
  {
   "cell_type": "code",
   "execution_count": 15,
   "id": "7805e80d-0ae0-4c3b-9dfd-1544c1db77e9",
   "metadata": {},
   "outputs": [],
   "source": [
    "df['Year'] = pd.to_datetime(df['Year'], format=\"%Y\")"
   ]
  },
  {
   "cell_type": "code",
   "execution_count": 16,
   "id": "81ea657c-48d9-4284-a503-770e85dcff93",
   "metadata": {
    "tags": []
   },
   "outputs": [],
   "source": [
    "df[\"Age Group\"] = df[\"Age Group\"].astype(\"category\")"
   ]
  },
  {
   "cell_type": "code",
   "execution_count": 17,
   "id": "9a3aee38-8445-4582-bef4-d3f564e12745",
   "metadata": {
    "tags": []
   },
   "outputs": [],
   "source": [
    "df[['Disease Name','Disease Category','Treatment Type']] = (\n",
    "    df[['Disease Name','Disease Category','Treatment Type']].apply(lambda col:col.str.title().str.strip()))"
   ]
  }
 ],
 "metadata": {
  "kernelspec": {
   "display_name": "Python 3 (ipykernel)",
   "language": "python",
   "name": "python3"
  },
  "language_info": {
   "codemirror_mode": {
    "name": "ipython",
    "version": 3
   },
   "file_extension": ".py",
   "mimetype": "text/x-python",
   "name": "python",
   "nbconvert_exporter": "python",
   "pygments_lexer": "ipython3",
   "version": "3.11.7"
  }
 },
 "nbformat": 4,
 "nbformat_minor": 5
}
